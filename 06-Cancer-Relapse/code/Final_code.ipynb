{
 "cells": [
  {
   "cell_type": "markdown",
   "metadata": {},
   "source": [
    "# Cancer Relapse Classification Using Gene Expression Profiles\n",
    "\n",
    "One really interesting problem in computational molecular medicine, and one that is heavily researched is the prediction of phenotypes (e.g. properties of cancer growths) based on gene expression profiles.\n",
    "\n",
    "For this project, I try to predict the time of relapse among breast cancer patients diagnosed with a malignant tumor. In particular, I consider patients with ER+ (estrogen receptor positive) disease who were treated with surgery or surgery and radiation, and untreated with systemic hormonal therapy and/or chemotherapy. Of these, I consider 2 categories of patients: 'NoRelapse' patients who did not relapse for the duration of the 6.5 year study and 'Relapse' patients who did. The researchers  did post-study follow-ups, and there were indeed patients in the study who relapsed after 6.5 years, but they have been excluded from my data.\n",
    "\n",
    "The data come from DNA microarrays. The data compose a matrix where each row represents an anonymized patient and each column represents the expression level for a particular gene.\n",
    "\n",
    "Without diving too deep into the biochemical methods behind gathering the data, I just wanted to provide a brief overview of what 'DNA microarray data' actually is. A microarray is a collection of small DNA spots attached to a solid surface. In microarray experiments, the signal collected from each spot is used to estimate the expression level of a gene. A microarray contains thousands of DNA spots, covering almost every gene in a genome.\n",
    "\n",
    "To make the gene expression levels more comparable between genes, the data have been normalized. This makes it so the numbers in the dataframe are not the *true* expression levels, but are slighly altered so we can interpret and compare these numbers across genes (the I gathered the normalized data, so I did not have to do any extra preprocessing beforehand).\n",
    "\n",
    "I was particularly lucky because the data I gathered was already clean. There were no missing variables, and as I mentioned before, the were already normalized for interpretability.\n",
    "\n",
    "I then split the data into 2 categories: a training set (the set of patients I use to build my predictive model) and a testing set (the set of patients I use to evaluate how well my model performs). The training set contain 22,215 genes for 212 patients. Of these, 152 patients are categorized as 'NoRelapse' and 60 are categorized as 'Relapse'. The test set also contain 22,215 genes for 212 patients, and of these, 137 are categorized as 'NoRelapse' and 75 as 'Relapse'.\n",
    "\n",
    "As with any data science problem, I begin by importing the Python tools and libraries I need:"
   ]
  },
  {
   "cell_type": "code",
   "execution_count": 1,
   "metadata": {
    "collapsed": true
   },
   "outputs": [],
   "source": [
    "import pandas as pd\n",
    "import numpy as np\n",
    "import scipy.stats as ss\n",
    "import math\n",
    "import matplotlib.pyplot as plt\n",
    "import seaborn as sns\n",
    "% matplotlib inline\n",
    "from sklearn import cross_validation\n",
    "from time import time\n",
    "import xgboost as xgb\n",
    "from sklearn.grid_search import GridSearchCV\n",
    "from sklearn.ensemble import RandomForestClassifier\n",
    "from sklearn.metrics import roc_curve, auc, accuracy_score, confusion_matrix, classification_report"
   ]
  },
  {
   "cell_type": "markdown",
   "metadata": {},
   "source": [
    "Below, you can see the output of what the gene expression data look like. On the top left, you see 'GENE' which indicates that each column represents a gene. For example, the first gene in the matrix is '1007_s_at'. This is not acutally a gene, but rather a specific gene sequence. The second column is labeled '10543_at;RFC2'. RFC2 is the actual name of the gene, and that gene was interrogated by probe 1053_at. Since not every gene is labeled (like the first column), I decided to keep both the probe and gene name to identify genes.\n",
    "\n",
    "Each row is labeled with 'GSM 177###\". This code represents a patient. Thus, you see the first patient 'GSM 177886' has 12.2321 expressed for '1007_s_at', 10.4610 for gene RFC2, etc.\n",
    "\n",
    "For a high-level description of what probes are in this context, I turned to the Internet:\n",
    "\"Every probe is in essence a gene, since every probe interrogates an expressed sequence. Some probes may not have any annotation associated with them, some probes may recognize multiple potential target sequences (promiscuous probes) and some annotated genes may have multiple probes, each of with interrogates a different mRNA transcript for that gene.\" - Michael B. Black https://www.researchgate.net/post/Which_probe_set_should_I_consider_for_each_gene_in_affymetrix_microarray"
   ]
  },
  {
   "cell_type": "code",
   "execution_count": 2,
   "metadata": {
    "collapsed": false,
    "scrolled": true
   },
   "outputs": [
    {
     "name": "stdout",
     "output_type": "stream",
     "text": [
      "(212, 22215)\n"
     ]
    },
    {
     "data": {
      "text/html": [
       "<div>\n",
       "<table border=\"1\" class=\"dataframe\">\n",
       "  <thead>\n",
       "    <tr style=\"text-align: right;\">\n",
       "      <th>GENE</th>\n",
       "      <th>1007_s_at</th>\n",
       "      <th>1053_at;RFC2</th>\n",
       "      <th>117_at;HSPA6</th>\n",
       "      <th>121_at;PAX8</th>\n",
       "      <th>1255_g_at;GUCA1A</th>\n",
       "      <th>1294_at</th>\n",
       "      <th>1316_at;THRA</th>\n",
       "      <th>1320_at;PTPN21</th>\n",
       "      <th>1405_i_at;CCL5</th>\n",
       "      <th>1431_at;CYP2E1</th>\n",
       "      <th>...</th>\n",
       "      <th>90610_at;LRCH4</th>\n",
       "      <th>91580_at;LRTM1</th>\n",
       "      <th>91617_at</th>\n",
       "      <th>91682_at;EXOSC4</th>\n",
       "      <th>91684_g_at;EXOSC4</th>\n",
       "      <th>91703_at;EHBP1L1</th>\n",
       "      <th>91816_f_at;MEX3D</th>\n",
       "      <th>91826_at;EPS8L1</th>\n",
       "      <th>91920_at;BCAN</th>\n",
       "      <th>91952_at;DCAF15</th>\n",
       "    </tr>\n",
       "  </thead>\n",
       "  <tbody>\n",
       "    <tr>\n",
       "      <th>GSM177886</th>\n",
       "      <td>12.2321</td>\n",
       "      <td>10.4610</td>\n",
       "      <td>9.1020</td>\n",
       "      <td>10.1887</td>\n",
       "      <td>6.4191</td>\n",
       "      <td>9.8911</td>\n",
       "      <td>6.6967</td>\n",
       "      <td>7.2187</td>\n",
       "      <td>10.9496</td>\n",
       "      <td>5.1459</td>\n",
       "      <td>...</td>\n",
       "      <td>10.3830</td>\n",
       "      <td>6.3388</td>\n",
       "      <td>8.8040</td>\n",
       "      <td>8.8703</td>\n",
       "      <td>10.6404</td>\n",
       "      <td>8.6402</td>\n",
       "      <td>8.6949</td>\n",
       "      <td>9.4653</td>\n",
       "      <td>8.5877</td>\n",
       "      <td>8.9001</td>\n",
       "    </tr>\n",
       "    <tr>\n",
       "      <th>GSM177888</th>\n",
       "      <td>12.7247</td>\n",
       "      <td>10.2661</td>\n",
       "      <td>8.2479</td>\n",
       "      <td>10.7472</td>\n",
       "      <td>6.8486</td>\n",
       "      <td>10.2362</td>\n",
       "      <td>8.9413</td>\n",
       "      <td>7.6068</td>\n",
       "      <td>12.8489</td>\n",
       "      <td>6.4327</td>\n",
       "      <td>...</td>\n",
       "      <td>11.0849</td>\n",
       "      <td>4.0472</td>\n",
       "      <td>8.7750</td>\n",
       "      <td>8.6050</td>\n",
       "      <td>11.6073</td>\n",
       "      <td>9.3611</td>\n",
       "      <td>8.4957</td>\n",
       "      <td>9.6736</td>\n",
       "      <td>9.2171</td>\n",
       "      <td>7.6720</td>\n",
       "    </tr>\n",
       "    <tr>\n",
       "      <th>GSM177890</th>\n",
       "      <td>12.0137</td>\n",
       "      <td>9.9722</td>\n",
       "      <td>7.4331</td>\n",
       "      <td>10.3992</td>\n",
       "      <td>4.4546</td>\n",
       "      <td>10.1440</td>\n",
       "      <td>7.9000</td>\n",
       "      <td>7.6847</td>\n",
       "      <td>11.4060</td>\n",
       "      <td>6.2453</td>\n",
       "      <td>...</td>\n",
       "      <td>10.1170</td>\n",
       "      <td>4.6438</td>\n",
       "      <td>8.2863</td>\n",
       "      <td>8.5939</td>\n",
       "      <td>10.2225</td>\n",
       "      <td>8.8233</td>\n",
       "      <td>8.6582</td>\n",
       "      <td>9.5091</td>\n",
       "      <td>9.2464</td>\n",
       "      <td>8.4098</td>\n",
       "    </tr>\n",
       "    <tr>\n",
       "      <th>GSM177893</th>\n",
       "      <td>12.4415</td>\n",
       "      <td>10.2573</td>\n",
       "      <td>8.2079</td>\n",
       "      <td>10.9866</td>\n",
       "      <td>3.7594</td>\n",
       "      <td>10.2328</td>\n",
       "      <td>8.3606</td>\n",
       "      <td>5.7863</td>\n",
       "      <td>7.4300</td>\n",
       "      <td>7.8563</td>\n",
       "      <td>...</td>\n",
       "      <td>10.3650</td>\n",
       "      <td>3.3177</td>\n",
       "      <td>8.6374</td>\n",
       "      <td>8.7150</td>\n",
       "      <td>10.1531</td>\n",
       "      <td>7.3304</td>\n",
       "      <td>8.5776</td>\n",
       "      <td>9.5751</td>\n",
       "      <td>9.1949</td>\n",
       "      <td>8.2414</td>\n",
       "    </tr>\n",
       "    <tr>\n",
       "      <th>GSM177894</th>\n",
       "      <td>12.3090</td>\n",
       "      <td>10.1558</td>\n",
       "      <td>6.0089</td>\n",
       "      <td>10.2796</td>\n",
       "      <td>6.8940</td>\n",
       "      <td>9.7229</td>\n",
       "      <td>7.7062</td>\n",
       "      <td>4.9384</td>\n",
       "      <td>10.5943</td>\n",
       "      <td>6.7776</td>\n",
       "      <td>...</td>\n",
       "      <td>10.3119</td>\n",
       "      <td>5.6703</td>\n",
       "      <td>8.7074</td>\n",
       "      <td>8.5682</td>\n",
       "      <td>9.6210</td>\n",
       "      <td>8.6251</td>\n",
       "      <td>9.1388</td>\n",
       "      <td>10.2063</td>\n",
       "      <td>8.5504</td>\n",
       "      <td>8.3415</td>\n",
       "    </tr>\n",
       "  </tbody>\n",
       "</table>\n",
       "<p>5 rows × 22215 columns</p>\n",
       "</div>"
      ],
      "text/plain": [
       "GENE       1007_s_at  1053_at;RFC2  117_at;HSPA6  121_at;PAX8  \\\n",
       "GSM177886    12.2321       10.4610        9.1020      10.1887   \n",
       "GSM177888    12.7247       10.2661        8.2479      10.7472   \n",
       "GSM177890    12.0137        9.9722        7.4331      10.3992   \n",
       "GSM177893    12.4415       10.2573        8.2079      10.9866   \n",
       "GSM177894    12.3090       10.1558        6.0089      10.2796   \n",
       "\n",
       "GENE       1255_g_at;GUCA1A  1294_at  1316_at;THRA  1320_at;PTPN21  \\\n",
       "GSM177886            6.4191   9.8911        6.6967          7.2187   \n",
       "GSM177888            6.8486  10.2362        8.9413          7.6068   \n",
       "GSM177890            4.4546  10.1440        7.9000          7.6847   \n",
       "GSM177893            3.7594  10.2328        8.3606          5.7863   \n",
       "GSM177894            6.8940   9.7229        7.7062          4.9384   \n",
       "\n",
       "GENE       1405_i_at;CCL5  1431_at;CYP2E1       ...         90610_at;LRCH4  \\\n",
       "GSM177886         10.9496          5.1459       ...                10.3830   \n",
       "GSM177888         12.8489          6.4327       ...                11.0849   \n",
       "GSM177890         11.4060          6.2453       ...                10.1170   \n",
       "GSM177893          7.4300          7.8563       ...                10.3650   \n",
       "GSM177894         10.5943          6.7776       ...                10.3119   \n",
       "\n",
       "GENE       91580_at;LRTM1  91617_at  91682_at;EXOSC4  91684_g_at;EXOSC4  \\\n",
       "GSM177886          6.3388    8.8040           8.8703            10.6404   \n",
       "GSM177888          4.0472    8.7750           8.6050            11.6073   \n",
       "GSM177890          4.6438    8.2863           8.5939            10.2225   \n",
       "GSM177893          3.3177    8.6374           8.7150            10.1531   \n",
       "GSM177894          5.6703    8.7074           8.5682             9.6210   \n",
       "\n",
       "GENE       91703_at;EHBP1L1  91816_f_at;MEX3D  91826_at;EPS8L1  91920_at;BCAN  \\\n",
       "GSM177886            8.6402            8.6949           9.4653         8.5877   \n",
       "GSM177888            9.3611            8.4957           9.6736         9.2171   \n",
       "GSM177890            8.8233            8.6582           9.5091         9.2464   \n",
       "GSM177893            7.3304            8.5776           9.5751         9.1949   \n",
       "GSM177894            8.6251            9.1388          10.2063         8.5504   \n",
       "\n",
       "GENE       91952_at;DCAF15  \n",
       "GSM177886           8.9001  \n",
       "GSM177888           7.6720  \n",
       "GSM177890           8.4098  \n",
       "GSM177893           8.2414  \n",
       "GSM177894           8.3415  \n",
       "\n",
       "[5 rows x 22215 columns]"
      ]
     },
     "execution_count": 2,
     "metadata": {},
     "output_type": "execute_result"
    }
   ],
   "source": [
    "df = pd.read_table('../data/brcaTrainExpr.txt', index_col = 'GENE')\n",
    "df = df.transpose()\n",
    "X = np.array(df)\n",
    "print(df.shape)\n",
    "df.head()"
   ]
  },
  {
   "cell_type": "code",
   "execution_count": 3,
   "metadata": {
    "collapsed": false
   },
   "outputs": [
    {
     "name": "stdout",
     "output_type": "stream",
     "text": [
      "(212, 22215)\n"
     ]
    },
    {
     "data": {
      "text/html": [
       "<div>\n",
       "<table border=\"1\" class=\"dataframe\">\n",
       "  <thead>\n",
       "    <tr style=\"text-align: right;\">\n",
       "      <th>GENE</th>\n",
       "      <th>1007_s_at</th>\n",
       "      <th>1053_at;RFC2</th>\n",
       "      <th>117_at;HSPA6</th>\n",
       "      <th>121_at;PAX8</th>\n",
       "      <th>1255_g_at;GUCA1A</th>\n",
       "      <th>1294_at</th>\n",
       "      <th>1316_at;THRA</th>\n",
       "      <th>1320_at;PTPN21</th>\n",
       "      <th>1405_i_at;CCL5</th>\n",
       "      <th>1431_at;CYP2E1</th>\n",
       "      <th>...</th>\n",
       "      <th>90610_at;LRCH4</th>\n",
       "      <th>91580_at;LRTM1</th>\n",
       "      <th>91617_at</th>\n",
       "      <th>91682_at;EXOSC4</th>\n",
       "      <th>91684_g_at;EXOSC4</th>\n",
       "      <th>91703_at;EHBP1L1</th>\n",
       "      <th>91816_f_at;MEX3D</th>\n",
       "      <th>91826_at;EPS8L1</th>\n",
       "      <th>91920_at;BCAN</th>\n",
       "      <th>91952_at;DCAF15</th>\n",
       "    </tr>\n",
       "  </thead>\n",
       "  <tbody>\n",
       "    <tr>\n",
       "      <th>GSM177920</th>\n",
       "      <td>12.3029</td>\n",
       "      <td>9.6711</td>\n",
       "      <td>8.2329</td>\n",
       "      <td>9.8180</td>\n",
       "      <td>6.5842</td>\n",
       "      <td>9.7000</td>\n",
       "      <td>7.6245</td>\n",
       "      <td>5.3078</td>\n",
       "      <td>8.6243</td>\n",
       "      <td>7.8594</td>\n",
       "      <td>...</td>\n",
       "      <td>9.8653</td>\n",
       "      <td>4.6365</td>\n",
       "      <td>9.2609</td>\n",
       "      <td>8.0202</td>\n",
       "      <td>9.6465</td>\n",
       "      <td>7.7720</td>\n",
       "      <td>9.3198</td>\n",
       "      <td>11.7674</td>\n",
       "      <td>9.5955</td>\n",
       "      <td>8.5581</td>\n",
       "    </tr>\n",
       "    <tr>\n",
       "      <th>GSM177969</th>\n",
       "      <td>11.8008</td>\n",
       "      <td>10.5399</td>\n",
       "      <td>8.2761</td>\n",
       "      <td>9.9577</td>\n",
       "      <td>5.5922</td>\n",
       "      <td>10.1655</td>\n",
       "      <td>7.7667</td>\n",
       "      <td>7.2959</td>\n",
       "      <td>10.6950</td>\n",
       "      <td>7.5074</td>\n",
       "      <td>...</td>\n",
       "      <td>9.8680</td>\n",
       "      <td>7.0481</td>\n",
       "      <td>8.8045</td>\n",
       "      <td>8.8985</td>\n",
       "      <td>10.0809</td>\n",
       "      <td>8.3769</td>\n",
       "      <td>9.5190</td>\n",
       "      <td>9.8512</td>\n",
       "      <td>9.1547</td>\n",
       "      <td>8.2553</td>\n",
       "    </tr>\n",
       "    <tr>\n",
       "      <th>GSM177983</th>\n",
       "      <td>12.5286</td>\n",
       "      <td>9.0396</td>\n",
       "      <td>8.7496</td>\n",
       "      <td>10.2907</td>\n",
       "      <td>6.9988</td>\n",
       "      <td>10.4279</td>\n",
       "      <td>7.7974</td>\n",
       "      <td>5.4544</td>\n",
       "      <td>8.2786</td>\n",
       "      <td>7.2004</td>\n",
       "      <td>...</td>\n",
       "      <td>9.0900</td>\n",
       "      <td>6.6631</td>\n",
       "      <td>8.9407</td>\n",
       "      <td>8.6171</td>\n",
       "      <td>9.9880</td>\n",
       "      <td>8.7302</td>\n",
       "      <td>8.4114</td>\n",
       "      <td>9.5867</td>\n",
       "      <td>9.5263</td>\n",
       "      <td>8.6281</td>\n",
       "    </tr>\n",
       "    <tr>\n",
       "      <th>GSM177988</th>\n",
       "      <td>10.5332</td>\n",
       "      <td>9.8496</td>\n",
       "      <td>8.0805</td>\n",
       "      <td>9.8766</td>\n",
       "      <td>5.6708</td>\n",
       "      <td>11.8509</td>\n",
       "      <td>8.7876</td>\n",
       "      <td>7.7491</td>\n",
       "      <td>10.4160</td>\n",
       "      <td>7.8056</td>\n",
       "      <td>...</td>\n",
       "      <td>11.5998</td>\n",
       "      <td>2.9187</td>\n",
       "      <td>8.8900</td>\n",
       "      <td>8.2380</td>\n",
       "      <td>8.8388</td>\n",
       "      <td>9.8467</td>\n",
       "      <td>6.8486</td>\n",
       "      <td>6.3113</td>\n",
       "      <td>8.3880</td>\n",
       "      <td>9.2349</td>\n",
       "    </tr>\n",
       "    <tr>\n",
       "      <th>GSM178002</th>\n",
       "      <td>12.3055</td>\n",
       "      <td>9.8148</td>\n",
       "      <td>9.4102</td>\n",
       "      <td>10.3765</td>\n",
       "      <td>7.3082</td>\n",
       "      <td>10.5140</td>\n",
       "      <td>7.9715</td>\n",
       "      <td>7.8410</td>\n",
       "      <td>10.8660</td>\n",
       "      <td>6.7951</td>\n",
       "      <td>...</td>\n",
       "      <td>10.4178</td>\n",
       "      <td>5.9855</td>\n",
       "      <td>8.9733</td>\n",
       "      <td>8.7199</td>\n",
       "      <td>9.8251</td>\n",
       "      <td>9.2594</td>\n",
       "      <td>9.1781</td>\n",
       "      <td>9.7976</td>\n",
       "      <td>9.1203</td>\n",
       "      <td>8.0822</td>\n",
       "    </tr>\n",
       "  </tbody>\n",
       "</table>\n",
       "<p>5 rows × 22215 columns</p>\n",
       "</div>"
      ],
      "text/plain": [
       "GENE       1007_s_at  1053_at;RFC2  117_at;HSPA6  121_at;PAX8  \\\n",
       "GSM177920    12.3029        9.6711        8.2329       9.8180   \n",
       "GSM177969    11.8008       10.5399        8.2761       9.9577   \n",
       "GSM177983    12.5286        9.0396        8.7496      10.2907   \n",
       "GSM177988    10.5332        9.8496        8.0805       9.8766   \n",
       "GSM178002    12.3055        9.8148        9.4102      10.3765   \n",
       "\n",
       "GENE       1255_g_at;GUCA1A  1294_at  1316_at;THRA  1320_at;PTPN21  \\\n",
       "GSM177920            6.5842   9.7000        7.6245          5.3078   \n",
       "GSM177969            5.5922  10.1655        7.7667          7.2959   \n",
       "GSM177983            6.9988  10.4279        7.7974          5.4544   \n",
       "GSM177988            5.6708  11.8509        8.7876          7.7491   \n",
       "GSM178002            7.3082  10.5140        7.9715          7.8410   \n",
       "\n",
       "GENE       1405_i_at;CCL5  1431_at;CYP2E1       ...         90610_at;LRCH4  \\\n",
       "GSM177920          8.6243          7.8594       ...                 9.8653   \n",
       "GSM177969         10.6950          7.5074       ...                 9.8680   \n",
       "GSM177983          8.2786          7.2004       ...                 9.0900   \n",
       "GSM177988         10.4160          7.8056       ...                11.5998   \n",
       "GSM178002         10.8660          6.7951       ...                10.4178   \n",
       "\n",
       "GENE       91580_at;LRTM1  91617_at  91682_at;EXOSC4  91684_g_at;EXOSC4  \\\n",
       "GSM177920          4.6365    9.2609           8.0202             9.6465   \n",
       "GSM177969          7.0481    8.8045           8.8985            10.0809   \n",
       "GSM177983          6.6631    8.9407           8.6171             9.9880   \n",
       "GSM177988          2.9187    8.8900           8.2380             8.8388   \n",
       "GSM178002          5.9855    8.9733           8.7199             9.8251   \n",
       "\n",
       "GENE       91703_at;EHBP1L1  91816_f_at;MEX3D  91826_at;EPS8L1  91920_at;BCAN  \\\n",
       "GSM177920            7.7720            9.3198          11.7674         9.5955   \n",
       "GSM177969            8.3769            9.5190           9.8512         9.1547   \n",
       "GSM177983            8.7302            8.4114           9.5867         9.5263   \n",
       "GSM177988            9.8467            6.8486           6.3113         8.3880   \n",
       "GSM178002            9.2594            9.1781           9.7976         9.1203   \n",
       "\n",
       "GENE       91952_at;DCAF15  \n",
       "GSM177920           8.5581  \n",
       "GSM177969           8.2553  \n",
       "GSM177983           8.6281  \n",
       "GSM177988           9.2349  \n",
       "GSM178002           8.0822  \n",
       "\n",
       "[5 rows x 22215 columns]"
      ]
     },
     "execution_count": 3,
     "metadata": {},
     "output_type": "execute_result"
    }
   ],
   "source": [
    "dfT = pd.read_table('../data/brcaTestExpr.txt', index_col = 'GENE')\n",
    "dfT = dfT.transpose()\n",
    "XT = np.array(dfT)\n",
    "print(dfT.shape)\n",
    "dfT.head()"
   ]
  },
  {
   "cell_type": "markdown",
   "metadata": {},
   "source": [
    "Below, I import the label, which is whether or not the patient relapsed. I redefine Relapse as 1 and NoRelapse as 0."
   ]
  },
  {
   "cell_type": "code",
   "execution_count": 4,
   "metadata": {
    "collapsed": false
   },
   "outputs": [
    {
     "data": {
      "text/plain": [
       "array([1, 1, 0, 0, 1])"
      ]
     },
     "execution_count": 4,
     "metadata": {},
     "output_type": "execute_result"
    }
   ],
   "source": [
    "dfy = pd.read_table('../data/brcaTrainPheno.txt')\n",
    "y = np.where(dfy.RelapseGroup == 'Relapse', 1, 0)\n",
    "y[:5]"
   ]
  },
  {
   "cell_type": "code",
   "execution_count": 5,
   "metadata": {
    "collapsed": false
   },
   "outputs": [
    {
     "data": {
      "text/plain": [
       "array([1, 0, 1, 0, 0])"
      ]
     },
     "execution_count": 5,
     "metadata": {},
     "output_type": "execute_result"
    }
   ],
   "source": [
    "dfyT = pd.read_table('../data/brcaTestPheno.txt')\n",
    "yT = np.where(dfyT.RelapseGroup == 'Relapse', 1, 0)\n",
    "yT[:5]"
   ]
  },
  {
   "cell_type": "markdown",
   "metadata": {},
   "source": [
    "### Wilcoxon Rank-Sum Test\n",
    "\n",
    "I have 22,215 genes. That's *a lot* of genes and not every single one of these genes is going to be predictive of relapse. I turn to the Wilcoxon Rank-Sum test to filter out some of the genes. This is a non-parametric test of the null hypothesis that it is equally likely that a randomly selected value from one sample will be less than or greater than a randomly selected value from a second sample.\n",
    "\n",
    "My null hypothesis here is that the NoRelapse patients and the Relapse patients come from the same distribution. I test this hypothesis for all 22,215 genes and only keep genes where the p-value from the test is small enough where I can say that the 2 sets of patients do *not* come from the same population."
   ]
  },
  {
   "cell_type": "code",
   "execution_count": 6,
   "metadata": {
    "collapsed": true
   },
   "outputs": [],
   "source": [
    "def WRST(X,y): #X is feature matrix, y is binary label vector\n",
    "\n",
    "    num_zeros = sum(y == 0) # Number of NoRelapse patients\n",
    "    num_ones = len(y) - num_zeros # Number of Relapse patients\n",
    "    \n",
    "    #Use Wilcoxon rank-sum test to find most differentially expressed genes\n",
    "    W = np.array(range(X.shape[1])) #Create W vector whose length = # of genes (aka number of columns)\n",
    "    \n",
    "    for i in range(X.shape[1]): #for each gene\n",
    "        ranks = ss.rankdata(X[:,i],method='average')  # rank patients from least expressed to most expressed\n",
    "        \n",
    "        W[i] = sum(ranks[np.nonzero(y)]) #Add together gene i's rank for all patients who relapse\n",
    "    \n",
    "    #For binary label, sum up positive labels & negative labels (this equals the mean)\n",
    "    # When the two samples are sufficiently large, the W statistic is approximately normal N(μ, σ) where\n",
    "    m = num_ones * (len(y) + 1) / 2. # mu =  n1 * (n + 1) / 2 and \n",
    "    s = math.sqrt((num_zeros * num_ones * (len(y) + 1)) / 12.) # var = n1 * n2 * (n + 1) / 12\n",
    "    \n",
    "    pval = np.array(range(X.shape[1]), float) # Create empty pval array\n",
    "    \n",
    "    #calculate p-values for each gene\n",
    "    for i in range(len(W)):\n",
    "        if W[i] <= m:\n",
    "            pval[i] = 2.*ss.norm.cdf(W[i],m,s)\n",
    "        else:\n",
    "            pval[i] = 2.*(1-ss.norm.cdf(W[i],m,s))\n",
    "    \n",
    "    #sort p-values\n",
    "    sort = np.argsort(pval)\n",
    "    \n",
    "    return sort"
   ]
  },
  {
   "cell_type": "code",
   "execution_count": 7,
   "metadata": {
    "collapsed": false
   },
   "outputs": [],
   "source": [
    "sort = WRST(X, y)"
   ]
  },
  {
   "cell_type": "code",
   "execution_count": 8,
   "metadata": {
    "collapsed": false
   },
   "outputs": [],
   "source": [
    "# Create permutated dfs from most differentially expressed to least differentially expressed\n",
    "dfw = df[df.columns[sort]]\n",
    "dfTw = dfT[dfT.columns[sort]]\n",
    "Xw = np.array(dfw)\n",
    "XTw = np.array(dfTw)"
   ]
  },
  {
   "cell_type": "code",
   "execution_count": 9,
   "metadata": {
    "collapsed": false
   },
   "outputs": [],
   "source": [
    "# Rank training set\n",
    "order = X.argsort(axis=1)\n",
    "R = X.argsort(axis=1)\n",
    "dfR = pd.DataFrame(R, index = df.index, columns=df.columns)\n",
    "\n",
    "# Rank permutated training set\n",
    "order2 = Xw.argsort(axis=1)\n",
    "Rw = Xw.argsort(axis=1)\n",
    "dfRw = pd.DataFrame(Rw, index = dfw.index, columns=dfw.columns)\n",
    "\n",
    "# Rank testing set\n",
    "orderT = XT.argsort(axis=1)\n",
    "RT = XT.argsort(axis=1)\n",
    "dfRT = pd.DataFrame(RT, index = df.index, columns=df.columns)\n",
    "\n",
    "# Rank permutated testing set\n",
    "order2T = XTw.argsort(axis=1)\n",
    "RTw = XTw.argsort(axis=1)\n",
    "dfRTw = pd.DataFrame(RTw, index = dfTw.index, columns=dfTw.columns)"
   ]
  },
  {
   "cell_type": "markdown",
   "metadata": {},
   "source": [
    "## Top Scoring Pairs Classifier"
   ]
  },
  {
   "cell_type": "code",
   "execution_count": 10,
   "metadata": {
    "collapsed": true
   },
   "outputs": [],
   "source": [
    "def nCr(n,r):\n",
    "    f = math.factorial\n",
    "    return float(f(n) / f(r) / f(n-r))"
   ]
  },
  {
   "cell_type": "code",
   "execution_count": 11,
   "metadata": {
    "collapsed": false
   },
   "outputs": [],
   "source": [
    "def TSP(B, z):\n",
    "    numpairs = nCr(df.shape[1], 2)\n",
    "    p2 = np.zeros([numpairs, 4]) # pre-allocate space for pij_0 and pij_1\n",
    "    f = 0 # count\n",
    "\n",
    "    for i in range(df.shape[1] - 1): # for the first p - 1 genes (every gene except the last one)\n",
    "        for j in range(i,len(B[1,:]) - 1): # from gene i to 2nd to last gene\n",
    "            gp = B[:,[i,j+1]] # find gene pairs\n",
    "            p = np.empty([2, 3], dtype = int) # pre-allocate table to score gene pair\n",
    "            p[0][2] = len(z) - np.count_nonzero(z) # total profiles with class 0\n",
    "            p[1][2] = np.count_nonzero(z) # total profiles with class 1\n",
    "            p[0][0] = 0\n",
    "            p[0][1] = 0\n",
    "            p[1][0] = 0\n",
    "            p[1][1] = 0\n",
    "\n",
    "            # in each gene pair (i,j)\n",
    "            for a in range(len(gp)):\n",
    "                for b in range(gp.shape[1] - 1):\n",
    "                    if z[a] == 0: # if sample has class 0\n",
    "                        if gp[a][b] < gp[a][b+1]: # if sample's gene i < gene j\n",
    "                            p[0][0] += 1 # Add 1 to class 0, Xi < Xj\n",
    "                        else:\n",
    "                            p[0][1] += 1 # class 0, rank gene i >= rank gene j, add to table\n",
    "                    else:\n",
    "                        if gp[a][b] < gp[a][b+1]:\n",
    "                            p[1][0] += 1\n",
    "                        else:\n",
    "                            p[1][1] += 1\n",
    "\n",
    "            pij_0 = float(p[0][0]) / p[0][2]\n",
    "            pij_1 = float(p[1][0]) / p[1][2]\n",
    "\n",
    "            #del_ij = abs(pij_0 - pij_1) # calculate score for gene pair (i,j)\n",
    "\n",
    "            # create probability table\n",
    "            if pij_0 != 0 or pij_1 != 0:\n",
    "                p2[f][0] = i\n",
    "                p2[f][1] = j+1\n",
    "                p2[f][2] = pij_0\n",
    "                p2[f][3] = pij_1\n",
    "                f += 1\n",
    "    p2 = p2[:f,:]\n",
    "\n",
    "    delta2 = []\n",
    "\n",
    "    for l in range(len(p2)):\n",
    "        if abs(p2[l][2] - p2[l][3]) != 0:\n",
    "            delta2.append(abs(p2[l][2] - p2[l][3]))         \n",
    "    delta2 = sorted(delta2, reverse = True)\n",
    "\n",
    "    for k in range(len(p2)):\n",
    "        if abs(p2[k][2] - p2[k][3]) == delta2[0]:\n",
    "            g = k\n",
    "            \n",
    "    return p2, g"
   ]
  },
  {
   "cell_type": "code",
   "execution_count": 12,
   "metadata": {
    "collapsed": false,
    "scrolled": true
   },
   "outputs": [
    {
     "name": "stderr",
     "output_type": "stream",
     "text": [
      "/Users/avinashtamby/anaconda/envs/py27/lib/python2.7/site-packages/ipykernel/__main__.py:3: VisibleDeprecationWarning: using a non-integer number instead of an integer will result in an error in the future\n",
      "  app.launch_new_instance()\n"
     ]
    },
    {
     "name": "stdout",
     "output_type": "stream",
     "text": [
      "CPU times: user 4h 38min 2s, sys: 2min 43s, total: 4h 40min 46s\n",
      "Wall time: 7h 46min 8s\n"
     ]
    }
   ],
   "source": [
    "% time p2, g = TSP(Rw[:,:5000], y)"
   ]
  },
  {
   "cell_type": "code",
   "execution_count": 20,
   "metadata": {
    "collapsed": true
   },
   "outputs": [],
   "source": [
    "# 100 = 7.26s\n",
    "# 200 = 34s, 27.4s\n",
    "# 250 = 1min 3s, 52.9s\n",
    "# 300 = 1min 22s\n",
    "# 2500 = 1h 10min 54s\n",
    "# 3200 = 2h 46min 44s 5,118,400 aka 3200 choose 2\n",
    "# 5000 = 7h 46min 8s start 8:45am 12,497,500 aka 5000 choose 2\n",
    "\n",
    "# 22215 = ??? long time - 5 days? ??? 246,742,005 aka 22215 choose 2\n",
    "\n",
    "# np.savetxt('twopoint5k.csv', p2, delimiter=',') 312.4 MB\n",
    "# np.savetxt('threepoint2k.csv', p2, delimiter=',') 511.8 MB\n",
    "# np.savetxt('fivek.csv', p2, delimiter=',') 1.25 GB\n",
    "\n",
    "# According to my calculations, the file with all 22,215 genes will be about 25 GB"
   ]
  },
  {
   "cell_type": "code",
   "execution_count": 13,
   "metadata": {
    "collapsed": false
   },
   "outputs": [
    {
     "data": {
      "text/plain": [
       "array([  3.20000000e+01,   2.79100000e+03,   5.85526316e-01,\n",
       "         1.83333333e-01])"
      ]
     },
     "execution_count": 13,
     "metadata": {},
     "output_type": "execute_result"
    }
   ],
   "source": [
    "p2[g]"
   ]
  },
  {
   "cell_type": "code",
   "execution_count": 14,
   "metadata": {
    "collapsed": false
   },
   "outputs": [
    {
     "data": {
      "text/plain": [
       "12497500"
      ]
     },
     "execution_count": 14,
     "metadata": {},
     "output_type": "execute_result"
    }
   ],
   "source": [
    "len(p2)"
   ]
  },
  {
   "cell_type": "code",
   "execution_count": 15,
   "metadata": {
    "collapsed": false
   },
   "outputs": [],
   "source": [
    "def acc(B, z, p2, g):\n",
    "    import warnings\n",
    "    warnings.filterwarnings(\"ignore\")\n",
    "\n",
    "    g1 = p2[g][0]\n",
    "    g2 = p2[g][1]\n",
    "    ypred = np.zeros(len(z), dtype = int)\n",
    "    count = 0\n",
    "    TP = 0\n",
    "    FP = 0\n",
    "    TN = 0\n",
    "    FN = 0\n",
    "\n",
    "    for h in range(len(B)):\n",
    "        if p2[g][2] > p2[g][3]:\n",
    "            if B[h,g1] < B[h,g2]:\n",
    "                ypred[h] = 0\n",
    "            else:\n",
    "                ypred[h] = 1\n",
    "        else:\n",
    "            if B[h,g1] > B[h,g2]:\n",
    "                ypred[h] = 0\n",
    "            else:\n",
    "                ypred[h] = 1\n",
    "\n",
    "        if z[h] == ypred[h]:\n",
    "            count += 1\n",
    "\n",
    "        # Positive = Relapse = 1\n",
    "        if z[h] == 1 and ypred[h] == 1:\n",
    "            TP += 1\n",
    "        elif z[h] == 1 and ypred[h] == 0:\n",
    "            FN += 1\n",
    "        elif z[h] == 0 and ypred[h] == 1:\n",
    "            FP += 1\n",
    "        else:\n",
    "            TN += 1\n",
    "\n",
    "    conmat = np.array([[TP, FN], [FP, TN]])\n",
    "\n",
    "    TPR = float(TP) / (TP + FN) # Sensitivity: % of Relapse individuals correctly classified as Relapse\n",
    "    FPR = float(FP) / (TN + FP) # 1 - Specificity: % of NoRelapse individuals incorrectly classified as Relapse\n",
    "\n",
    "    # TNR = TN / (TN + FP) # Specificity: % of NoRelapse individuals correctly classified as NoRelapse\n",
    "    # FNR = FN / (TP + FN) # 1 - TPR: % of Relapse individuals incorrectly classified as NoRelapse\n",
    "\n",
    "    # PPR = TP / (TP + FP) # Pos Predictive Value: % of correctly classified NoRelapse predictions\n",
    "    # NPR = TN / (TN + FN) # Neg Predictive Value: % of correctly classified Relapse predictions\n",
    "\n",
    "    # FDR = FP / (FP + TP) # % of incorrectly classified NoRelapse predictions\n",
    "    #print('TPR = ', TPR)\n",
    "    #print('FPR = ', FPR)\n",
    "    #print('score = ',(count/len(X)))\n",
    "    accu = count/float(len(X))\n",
    "    \n",
    "    return ypred, accu, conmat"
   ]
  },
  {
   "cell_type": "code",
   "execution_count": 22,
   "metadata": {
    "collapsed": false
   },
   "outputs": [
    {
     "ename": "KeyboardInterrupt",
     "evalue": "",
     "output_type": "error",
     "traceback": [
      "\u001b[0;31m---------------------------------------------------------------------------\u001b[0m",
      "\u001b[0;31mKeyboardInterrupt\u001b[0m                         Traceback (most recent call last)",
      "\u001b[0;31mKeyboardInterrupt\u001b[0m: "
     ]
    }
   ],
   "source": [
    "tic = time()\n",
    "accur = []\n",
    "for i in range(len(p2)):\n",
    "    accur.append(acc(RTw[:,:5000], yT, p2, i)[1])\n",
    "toc = time()\n",
    "toc - tic"
   ]
  },
  {
   "cell_type": "markdown",
   "metadata": {},
   "source": [
    "DNA → RNA → Protein: The Central Dogma\n",
    "Proteins created from mutated DNA prevent cells from functioning normally\n",
    "Expression levels collected by DNA microarray\n",
    "Collection of microscopic DNA spots attached to a solid surface\n",
    "Each DNA spot contains a small amount of a specific DNA sequence (or gene) known as a probe\n",
    "Probes can then link with the target gene that you want to analyze\n",
    "Probe-target links can then be detected and quantified to measure expression level of a gene\n",
    "Different labs can yield different expression levels for the same gene\n",
    "The data that I analyze come from 3 different studies\n",
    "Data is riddled with inconsistent measurements\n"
   ]
  },
  {
   "cell_type": "code",
   "execution_count": null,
   "metadata": {
    "collapsed": false,
    "scrolled": true
   },
   "outputs": [],
   "source": [
    "max(accur)"
   ]
  },
  {
   "cell_type": "code",
   "execution_count": null,
   "metadata": {
    "collapsed": true
   },
   "outputs": [],
   "source": [
    "# % time p3 = np.loadtxt('twopoint5k.csv', delimiter=',')"
   ]
  },
  {
   "cell_type": "code",
   "execution_count": 16,
   "metadata": {
    "collapsed": true
   },
   "outputs": [],
   "source": [
    "ypred, accu, conmat = acc(RTw[:,:5000], yT, p2, g)"
   ]
  },
  {
   "cell_type": "code",
   "execution_count": null,
   "metadata": {
    "collapsed": false
   },
   "outputs": [],
   "source": [
    "ypred, accu, conmat = acc(RTw[:,:5000], yT, p2, accur.index(max(accur)))"
   ]
  },
  {
   "cell_type": "code",
   "execution_count": 17,
   "metadata": {
    "collapsed": false
   },
   "outputs": [
    {
     "data": {
      "text/html": [
       "<div>\n",
       "<table border=\"1\" class=\"dataframe\">\n",
       "  <thead>\n",
       "    <tr style=\"text-align: right;\">\n",
       "      <th></th>\n",
       "      <th>predicted_Relapse</th>\n",
       "      <th>predicted_NoRelapse</th>\n",
       "    </tr>\n",
       "  </thead>\n",
       "  <tbody>\n",
       "    <tr>\n",
       "      <th>Relapse</th>\n",
       "      <td>45</td>\n",
       "      <td>30</td>\n",
       "    </tr>\n",
       "    <tr>\n",
       "      <th>NoRelapse</th>\n",
       "      <td>68</td>\n",
       "      <td>69</td>\n",
       "    </tr>\n",
       "  </tbody>\n",
       "</table>\n",
       "</div>"
      ],
      "text/plain": [
       "           predicted_Relapse  predicted_NoRelapse\n",
       "Relapse                   45                   30\n",
       "NoRelapse                 68                   69"
      ]
     },
     "execution_count": 17,
     "metadata": {},
     "output_type": "execute_result"
    }
   ],
   "source": [
    "confusion = pd.DataFrame(conmat, index=['Relapse', 'NoRelapse'],\n",
    "                         columns=['predicted_Relapse','predicted_NoRelapse'])\n",
    "confusion"
   ]
  },
  {
   "cell_type": "code",
   "execution_count": 18,
   "metadata": {
    "collapsed": false
   },
   "outputs": [
    {
     "name": "stdout",
     "output_type": "stream",
     "text": [
      "Null Accuracy: 0.646226415094\n",
      "True Accuracy: 0.537735849057\n"
     ]
    }
   ],
   "source": [
    "print 'Null Accuracy:', 137./212\n",
    "print 'True Accuracy:', accu"
   ]
  },
  {
   "cell_type": "code",
   "execution_count": 19,
   "metadata": {
    "collapsed": false
   },
   "outputs": [
    {
     "name": "stdout",
     "output_type": "stream",
     "text": [
      "Sensitivity/Recall/TPR (Correct Relapse Predictions / Total Relapse): 0.6\n",
      "\n",
      "Specificity/TNR (Correct NoRelapse Predictions / Total NoRelapse): 0.503649635036\n",
      "\n",
      "Precision (Correct Relapse Predictions / Total Relapse Predictions): 0.398230088496\n",
      "\n",
      "FPR (Incorrect Relapse Predictions / Total NoRelapse): 0.496350364964\n"
     ]
    }
   ],
   "source": [
    "print 'Sensitivity/Recall/TPR (Correct Relapse Predictions / Total Relapse):', float(conmat[0][0]) / conmat.sum(axis=1)[0]\n",
    "print ''\n",
    "print 'Specificity/TNR (Correct NoRelapse Predictions / Total NoRelapse):', float(conmat[1][1]) / conmat.sum(axis=1)[1]\n",
    "print ''\n",
    "print 'Precision (Correct Relapse Predictions / Total Relapse Predictions):', float(conmat[0][0]) / conmat.sum(axis=0)[0]\n",
    "print ''\n",
    "print 'FPR (Incorrect Relapse Predictions / Total NoRelapse):', float(conmat[1][0]) / conmat.sum(axis=1)[1]"
   ]
  },
  {
   "cell_type": "code",
   "execution_count": null,
   "metadata": {
    "collapsed": false
   },
   "outputs": [],
   "source": [
    "ypred"
   ]
  },
  {
   "cell_type": "markdown",
   "metadata": {},
   "source": [
    "## Random Forest Classifier"
   ]
  },
  {
   "cell_type": "code",
   "execution_count": null,
   "metadata": {
    "collapsed": false
   },
   "outputs": [],
   "source": [
    "cv_params = {'max_depth': [3,5,7]}\n",
    "\n",
    "ind_params = {'n_estimators': 100}\n",
    "\n",
    "optimized_rf = GridSearchCV(RandomForestClassifier(**ind_params), cv_params, cv = 5, n_jobs = -1)"
   ]
  },
  {
   "cell_type": "code",
   "execution_count": null,
   "metadata": {
    "collapsed": false
   },
   "outputs": [],
   "source": [
    "% time optimized_rf.fit(Xw, y)"
   ]
  },
  {
   "cell_type": "code",
   "execution_count": null,
   "metadata": {
    "collapsed": false
   },
   "outputs": [],
   "source": [
    "rf_pp = optimized_rf.predict_proba(XTw)\n",
    "print(optimized_rf.score(XTw, yT))"
   ]
  },
  {
   "cell_type": "code",
   "execution_count": null,
   "metadata": {
    "collapsed": true
   },
   "outputs": [],
   "source": [
    "conmat = np.array(confusion_matrix(yT, optimized_rf.predict(XTw[:,:10]), labels=[1,0]))\n",
    "\n",
    "confusion = pd.DataFrame(conmat, index=['Relapse', 'NoRelapse'],\n",
    "                         columns=['predicted_Relapse','predicted_NoRelapse'])\n",
    "\n",
    "confusion"
   ]
  },
  {
   "cell_type": "code",
   "execution_count": null,
   "metadata": {
    "collapsed": false
   },
   "outputs": [],
   "source": [
    "fpr, tpr, thresholds = roc_curve(yT, rf_pp[:,1])\n",
    "roc_auc = auc(fpr, tpr)\n",
    "%matplotlib inline\n",
    "plt.plot(fpr, tpr, label='AUC = %0.3f' % roc_auc)\n",
    "plt.plot([0, 1], [0, 1], 'k--')  # random predictions curve\n",
    "plt.xlim([0, 1])\n",
    "plt.ylim([0, 1])\n",
    "plt.xlabel('False Positive Rate or (1 - Specificity)')\n",
    "plt.ylabel('True Positive Rate or (Sensitivity)')\n",
    "plt.title('Receiver Operating Characteristic for Training Data')\n",
    "plt.legend(loc=\"lower right\")\n",
    "plt.show()\n",
    "\n",
    "print roc_auc"
   ]
  },
  {
   "cell_type": "markdown",
   "metadata": {},
   "source": [
    "## XGBoost Classifier"
   ]
  },
  {
   "cell_type": "code",
   "execution_count": null,
   "metadata": {
    "collapsed": false
   },
   "outputs": [],
   "source": [
    "xgb.XGBClassifier()"
   ]
  },
  {
   "cell_type": "code",
   "execution_count": null,
   "metadata": {
    "collapsed": true
   },
   "outputs": [],
   "source": [
    "cv_params = {'max_depth': [3,5,7,9,11,13,15], 'learning_rate': [0.01, 0.05, 0.1, 0.5],  'min_child_weight': [1,2,3,4,5,6,7],\n",
    "             'subsample': [0.2, 0.4, 0.6, 0.8]}\n",
    "\n",
    "ind_params = {'n_estimators': 5000, 'silent': False, 'nthread': -1,  'colsample_bytree': 0.8, \n",
    "             'objective': 'binary:logistic'}\n",
    "\n",
    "optimized_GBM = GridSearchCV(xgb.XGBClassifier(**ind_params), cv_params, scoring = 'roc_auc', cv = 5, n_jobs = -1)"
   ]
  },
  {
   "cell_type": "code",
   "execution_count": null,
   "metadata": {
    "collapsed": false
   },
   "outputs": [],
   "source": [
    "optimized_GBM.fit(Xw, y)"
   ]
  },
  {
   "cell_type": "code",
   "execution_count": null,
   "metadata": {
    "collapsed": false
   },
   "outputs": [],
   "source": [
    "test_pp = optimized_GBM.predict_proba(XTw)\n",
    "print(optimized_GBM.score(XTw, yT))"
   ]
  },
  {
   "cell_type": "code",
   "execution_count": null,
   "metadata": {
    "collapsed": false
   },
   "outputs": [],
   "source": [
    "fpr, tpr, thresholds = roc_curve(yT, test_pp[:,1])\n",
    "roc_auc = auc(fpr, tpr)\n",
    "%matplotlib inline\n",
    "plt.plot(fpr, tpr, label='AUC = %0.3f' % roc_auc)\n",
    "plt.plot([0, 1], [0, 1], 'k--')  # random predictions curve\n",
    "plt.xlim([0, 1])\n",
    "plt.ylim([0, 1])\n",
    "plt.xlabel('False Positive Rate or (1 - Specificity)')\n",
    "plt.ylabel('True Positive Rate or (Sensitivity)')\n",
    "plt.title('Receiver Operating Characteristic for Training Data')\n",
    "plt.legend(loc=\"lower right\")\n",
    "plt.show()\n",
    "\n",
    "print roc_auc"
   ]
  },
  {
   "cell_type": "code",
   "execution_count": null,
   "metadata": {
    "collapsed": true
   },
   "outputs": [],
   "source": []
  },
  {
   "cell_type": "code",
   "execution_count": null,
   "metadata": {
    "collapsed": false,
    "scrolled": false
   },
   "outputs": [],
   "source": [
    "answer = range(22215)\n",
    "r = [i ** 2 * .00056 for i in answer]\n",
    "\n",
    "% matplotlib inline\n",
    "\n",
    "for i in range(answer[115], answer[-1], 1000):\n",
    "    if r[i] < 60:\n",
    "        print(i, 'genes will take ', r[i], 'seconds')\n",
    "    elif r[i] >= 60 and answer[i] < 3600:\n",
    "        mins = r[i]/60\n",
    "        sec = (mins - int(mins)) * 60\n",
    "        print(i, 'genes will take', int(mins), 'minutes and', sec, 'seconds')\n",
    "    elif r[i] >= 3600 and r[i] < 86400:\n",
    "        hr = r[i]/3600\n",
    "        mins = (hr - int(hr)) * 60\n",
    "        print(i, 'genes will take', int(hr), 'hours', int(mins), 'minutes')\n",
    "    else:\n",
    "        days = r[i]/86400\n",
    "        hr = (days - int(r[i]/86400))*24\n",
    "        print(i, 'genes will take', int(days), 'days', int(hr), 'hours')\n",
    "\n",
    "plt.scatter(answer, r)\n",
    "plt.xlabel('Number of Genes')\n",
    "plt.ylabel('Time Elapsed')\n",
    "plt.show()"
   ]
  }
 ],
 "metadata": {
  "kernelspec": {
   "display_name": "Python 2",
   "language": "python",
   "name": "python2"
  },
  "language_info": {
   "codemirror_mode": {
    "name": "ipython",
    "version": 2
   },
   "file_extension": ".py",
   "mimetype": "text/x-python",
   "name": "python",
   "nbconvert_exporter": "python",
   "pygments_lexer": "ipython2",
   "version": "2.7.12"
  }
 },
 "nbformat": 4,
 "nbformat_minor": 0
}

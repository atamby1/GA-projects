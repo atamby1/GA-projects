{
 "cells": [
  {
   "cell_type": "code",
   "execution_count": 1,
   "metadata": {
    "collapsed": true
   },
   "outputs": [],
   "source": [
    "import pandas as pd\n",
    "import numpy as np\n",
    "import scipy.stats as ss\n",
    "import math\n",
    "import matplotlib.pyplot as plt\n",
    "import seaborn as sns\n",
    "% matplotlib inline\n",
    "from sklearn import cross_validation\n",
    "from time import time\n",
    "import xgboost as xgb\n",
    "from sklearn.grid_search import GridSearchCV\n",
    "from sklearn.ensemble import RandomForestClassifier\n",
    "from sklearn.metrics import roc_curve, auc, accuracy_score, confusion_matrix, classification_report"
   ]
  },
  {
   "cell_type": "code",
   "execution_count": 2,
   "metadata": {
    "collapsed": true
   },
   "outputs": [],
   "source": [
    "df = pd.read_table('../data/brcaTrainExpr.txt', index_col = 'GENE')\n",
    "df = df.transpose()\n",
    "X = np.array(df)\n",
    "df.head()\n",
    "\n",
    "dfT = pd.read_table('../data/brcaTestExpr.txt', index_col = 'GENE')\n",
    "dfT = dfT.transpose()\n",
    "XT = np.array(dfT)\n",
    "dfT.head()\n",
    "\n",
    "dfy = pd.read_table('../data/brcaTrainPheno.txt')\n",
    "y = np.where(dfy.RelapseGroup == 'Relapse', 1, 0)\n",
    "y[:5]\n",
    "\n",
    "dfyT = pd.read_table('../data/brcaTestPheno.txt')\n",
    "yT = np.where(dfyT.RelapseGroup == 'Relapse', 1, 0)\n",
    "yT[:5]\n",
    "\n",
    "def WRST(X,y): #X is feature matrix, y is binary label vector\n",
    "\n",
    "    num_zeros = sum(y == 0) # Number of NoRelapse patients\n",
    "    num_ones = len(y) - num_zeros # Number of Relapse patients\n",
    "    \n",
    "    #Use Wilcoxon rank-sum test to find most differentially expressed genes\n",
    "    W = np.array(range(X.shape[1])) #Create W vector whose length = # of genes (aka number of columns)\n",
    "    \n",
    "    for i in range(X.shape[1]): #for each gene\n",
    "        ranks = ss.rankdata(X[:,i],method='average')  # rank patients from least expressed to most expressed\n",
    "        \n",
    "        W[i] = sum(ranks[np.nonzero(y)]) #Add together gene i's rank for all patients who relapse\n",
    "    \n",
    "    #For binary label, sum up positive labels & negative labels (this equals the mean)\n",
    "    # When the two samples are sufficiently large, the W statistic is approximately normal N(μ, σ) where\n",
    "    m = num_ones * (len(y) + 1) / 2. # mu =  n1 * (n + 1) / 2 and \n",
    "    s = math.sqrt((num_zeros * num_ones * (len(y) + 1)) / 12.) # var = n1 * n2 * (n + 1) / 12\n",
    "    \n",
    "    pval = np.array(range(X.shape[1]), float) # Create empty pval array\n",
    "    \n",
    "    #calculate p-values for each gene\n",
    "    for i in range(len(W)):\n",
    "        if W[i] <= m:\n",
    "            pval[i] = 2.*ss.norm.cdf(W[i],m,s)\n",
    "        else:\n",
    "            pval[i] = 2.*(1-ss.norm.cdf(W[i],m,s))\n",
    "    \n",
    "    #sort p-values\n",
    "    sort = np.argsort(pval)\n",
    "    \n",
    "    return sort\n",
    "\n",
    "sort = WRST(X, y)\n",
    "\n",
    "dfw = df[df.columns[sort]]\n",
    "dfTw = dfT[dfT.columns[sort]]\n",
    "Xw = np.array(dfw)\n",
    "XTw = np.array(dfTw)"
   ]
  },
  {
   "cell_type": "code",
   "execution_count": 3,
   "metadata": {
    "collapsed": false
   },
   "outputs": [
    {
     "name": "stdout",
     "output_type": "stream",
     "text": [
      "CPU times: user 48.9 s, sys: 2.07 s, total: 51 s\n",
      "Wall time: 1h 15min 30s\n"
     ]
    },
    {
     "data": {
      "text/plain": [
       "RandomForestClassifier(bootstrap=True, class_weight='balanced',\n",
       "            criterion='gini', max_depth=9, max_features='log2',\n",
       "            max_leaf_nodes=None, min_samples_leaf=1, min_samples_split=2,\n",
       "            min_weight_fraction_leaf=0.0, n_estimators=7500, n_jobs=-1,\n",
       "            oob_score=False, random_state=None, verbose=0,\n",
       "            warm_start=False)"
      ]
     },
     "execution_count": 3,
     "metadata": {},
     "output_type": "execute_result"
    }
   ],
   "source": [
    "cv_params = {'max_depth': [5, 7, 9], 'max_features':['sqrt','log2'], 'class_weight': ['balanced','balanced_subsample']}\n",
    "ind_params = {'n_jobs':-1,'n_estimators': 7500}\n",
    "optimizing_rf = GridSearchCV(RandomForestClassifier(**ind_params), cv_params, cv = 5, n_jobs = -1)\n",
    "% time optimizing_rf.fit(Xw[:,:1000], y)\n",
    "ind_params.update(optimizing_rf.best_params_)\n",
    "optimized_rf = RandomForestClassifier(**ind_params)\n",
    "optimized_rf.fit(Xw[:,:1000], y)"
   ]
  },
  {
   "cell_type": "code",
   "execution_count": 4,
   "metadata": {
    "collapsed": false
   },
   "outputs": [
    {
     "name": "stdout",
     "output_type": "stream",
     "text": [
      "('Null Accuracy:', 0.6462264150943396)\n",
      "('RF Accuracy  :', 0.66981132075471694)\n",
      "\n",
      "             precision    recall  f1-score   support\n",
      "\n",
      "          1       0.67      0.13      0.22        75\n",
      "          0       0.67      0.96      0.79       137\n",
      "\n",
      "avg / total       0.67      0.67      0.59       212\n",
      "\n",
      "\n"
     ]
    },
    {
     "data": {
      "text/html": [
       "<div>\n",
       "<table border=\"1\" class=\"dataframe\">\n",
       "  <thead>\n",
       "    <tr style=\"text-align: right;\">\n",
       "      <th></th>\n",
       "      <th>predicted_Relapse</th>\n",
       "      <th>predicted_NoRelapse</th>\n",
       "    </tr>\n",
       "  </thead>\n",
       "  <tbody>\n",
       "    <tr>\n",
       "      <th>Relapse</th>\n",
       "      <td>10</td>\n",
       "      <td>65</td>\n",
       "    </tr>\n",
       "    <tr>\n",
       "      <th>NoRelapse</th>\n",
       "      <td>5</td>\n",
       "      <td>132</td>\n",
       "    </tr>\n",
       "  </tbody>\n",
       "</table>\n",
       "</div>"
      ],
      "text/plain": [
       "           predicted_Relapse  predicted_NoRelapse\n",
       "Relapse                   10                   65\n",
       "NoRelapse                  5                  132"
      ]
     },
     "execution_count": 4,
     "metadata": {},
     "output_type": "execute_result"
    }
   ],
   "source": [
    "rf_pp = optimized_rf.predict_proba(XTw[:,:1000])\n",
    "print('Null Accuracy:', 137./212)\n",
    "print('RF Accuracy  :', optimized_rf.score(XTw[:,:1000], yT))\n",
    "print('')\n",
    "print(classification_report(yT, optimized_rf.predict(XTw[:,:1000]), labels=[1,0]))\n",
    "print('')\n",
    "conmat = np.array(confusion_matrix(yT, optimized_rf.predict(XTw[:,:1000]), labels=[1,0]))\n",
    "\n",
    "confusion = pd.DataFrame(conmat, index=['Relapse', 'NoRelapse'],\n",
    "                         columns=['predicted_Relapse','predicted_NoRelapse'])\n",
    "confusion"
   ]
  },
  {
   "cell_type": "code",
   "execution_count": 5,
   "metadata": {
    "collapsed": false
   },
   "outputs": [
    {
     "data": {
      "image/png": "[encoded data removed]",
      "text/plain": [
       "<matplotlib.figure.Figure at 0x116a312d0>"
      ]
     },
     "metadata": {},
     "output_type": "display_data"
    },
    {
     "name": "stdout",
     "output_type": "stream",
     "text": [
      "0.697323600973\n",
      "\n",
      "219000_s_at;DSCC1\n"
     ]
    },
    {
     "data": {
      "text/plain": [
       "<matplotlib.figure.Figure at 0x114fb7350>"
      ]
     },
     "metadata": {},
     "output_type": "display_data"
    }
   ],
   "source": [
    "fpr, tpr, thresholds = roc_curve(yT, rf_pp[:,1])\n",
    "roc_auc = auc(fpr, tpr)\n",
    "%matplotlib inline\n",
    "plt.plot(fpr, tpr, label='AUC = %0.3f' % roc_auc)\n",
    "plt.plot([0, 1], [0, 1], 'k--')  # random predictions curve\n",
    "plt.xlim([0, 1])\n",
    "plt.ylim([0, 1])\n",
    "plt.xlabel('False Positive Rate or (1 - Specificity)')\n",
    "plt.ylabel('True Positive Rate or (Sensitivity)')\n",
    "plt.title('Receiver Operating Characteristic for Random Forest')\n",
    "plt.legend(loc=\"lower right\")\n",
    "plt.show()\n",
    "plt.savefig('rf_roc.png')\n",
    "print(roc_auc)\n",
    "print('')\n",
    "# the most important feature\n",
    "print(dfw.columns[np.argmax(optimized_rf.feature_importances_)])"
   ]
  },
  {
   "cell_type": "code",
   "execution_count": 7,
   "metadata": {
    "collapsed": true
   },
   "outputs": [],
   "source": [
    "sort_ix = sorted(range(len(optimized_rf.feature_importances_)), key=lambda i: optimized_rf.feature_importances_[i], reverse=True)"
   ]
  },
  {
   "cell_type": "code",
   "execution_count": 8,
   "metadata": {
    "collapsed": false
   },
   "outputs": [
    {
     "name": "stdout",
     "output_type": "stream",
     "text": [
      "219000_s_at;DSCC1\n",
      "208696_at;CCT5\n",
      "220475_at;SLC28A3\n",
      "222231_s_at;LRRC59\n",
      "222077_s_at;RACGAP1\n"
     ]
    }
   ],
   "source": [
    "for i in range(5):\n",
    "    print(dfw.columns[sort_ix[i]])"
   ]
  },
  {
   "cell_type": "code",
   "execution_count": 6,
   "metadata": {
    "collapsed": false
   },
   "outputs": [
    {
     "name": "stdout",
     "output_type": "stream",
     "text": [
      "Sensitivity/Recall/TPR (Correct Relapse Predictions / Total Relapse): 0.133333333333\n",
      "\n",
      "Specificity/TNR (Correct NoRelapse Predictions / Total NoRelapse): 0.963503649635\n",
      "\n",
      "Precision (Correct Relapse Predictions / Total Relapse Predictions): 0.666666666667\n",
      "\n",
      "FPR (Incorrect Relapse Predictions / Total NoRelapse): 0.036496350365\n"
     ]
    }
   ],
   "source": [
    "print 'Sensitivity/Recall/TPR (Correct Relapse Predictions / Total Relapse):', float(conmat[0][0]) / conmat.sum(axis=1)[0]\n",
    "print ''\n",
    "print 'Specificity/TNR (Correct NoRelapse Predictions / Total NoRelapse):', float(conmat[1][1]) / conmat.sum(axis=1)[1]\n",
    "print ''\n",
    "print 'Precision (Correct Relapse Predictions / Total Relapse Predictions):', float(conmat[0][0]) / conmat.sum(axis=0)[0]\n",
    "print ''\n",
    "print 'FPR (Incorrect Relapse Predictions / Total NoRelapse):', float(conmat[1][0]) / conmat.sum(axis=1)[1]"
   ]
  }
 ],
 "metadata": {
  "kernelspec": {
   "display_name": "Python 2",
   "language": "python",
   "name": "python2"
  },
  "language_info": {
   "codemirror_mode": {
    "name": "ipython",
    "version": 2
   },
   "file_extension": ".py",
   "mimetype": "text/x-python",
   "name": "python",
   "nbconvert_exporter": "python",
   "pygments_lexer": "ipython2",
   "version": "2.7.12"
  }
 },
 "nbformat": 4,
 "nbformat_minor": 0
}

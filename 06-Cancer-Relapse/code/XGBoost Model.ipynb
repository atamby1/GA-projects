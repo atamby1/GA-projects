{
 "cells": [
  {
   "cell_type": "code",
   "execution_count": 1,
   "metadata": {
    "collapsed": true
   },
   "outputs": [],
   "source": [
    "import pandas as pd\n",
    "import numpy as np\n",
    "import scipy.stats as ss\n",
    "import math\n",
    "import matplotlib.pyplot as plt\n",
    "import seaborn as sns\n",
    "% matplotlib inline\n",
    "from sklearn import cross_validation\n",
    "from time import time\n",
    "import xgboost as xgb\n",
    "from sklearn.grid_search import GridSearchCV\n",
    "from sklearn.ensemble import RandomForestClassifier\n",
    "from sklearn.metrics import roc_curve, auc, accuracy_score, confusion_matrix, classification_report"
   ]
  },
  {
   "cell_type": "code",
   "execution_count": 2,
   "metadata": {
    "collapsed": false
   },
   "outputs": [],
   "source": [
    "df = pd.read_table('../data/brcaTrainExpr.txt', index_col = 'GENE')\n",
    "df = df.transpose()\n",
    "X = np.array(df)\n",
    "df.head()\n",
    "\n",
    "dfT = pd.read_table('../data/brcaTestExpr.txt', index_col = 'GENE')\n",
    "dfT = dfT.transpose()\n",
    "XT = np.array(dfT)\n",
    "dfT.head()\n",
    "\n",
    "dfy = pd.read_table('../data/brcaTrainPheno.txt')\n",
    "y = np.where(dfy.RelapseGroup == 'Relapse', 1, 0)\n",
    "y[:5]\n",
    "\n",
    "dfyT = pd.read_table('../data/brcaTestPheno.txt')\n",
    "yT = np.where(dfyT.RelapseGroup == 'Relapse', 1, 0)\n",
    "yT[:5]\n",
    "\n",
    "def WRST(X,y): #X is feature matrix, y is binary label vector\n",
    "\n",
    "    num_zeros = sum(y == 0) # Number of NoRelapse patients\n",
    "    num_ones = len(y) - num_zeros # Number of Relapse patients\n",
    "    \n",
    "    #Use Wilcoxon rank-sum test to find most differentially expressed genes\n",
    "    W = np.array(range(X.shape[1])) #Create W vector whose length = # of genes (aka number of columns)\n",
    "    \n",
    "    for i in range(X.shape[1]): #for each gene\n",
    "        ranks = ss.rankdata(X[:,i],method='average')  # rank patients from least expressed to most expressed\n",
    "        \n",
    "        W[i] = sum(ranks[np.nonzero(y)]) #Add together gene i's rank for all patients who relapse\n",
    "    \n",
    "    #For binary label, sum up positive labels & negative labels (this equals the mean)\n",
    "    # When the two samples are sufficiently large, the W statistic is approximately normal N(μ, σ) where\n",
    "    m = num_ones * (len(y) + 1) / 2. # mu =  n1 * (n + 1) / 2 and \n",
    "    s = math.sqrt((num_zeros * num_ones * (len(y) + 1)) / 12.) # var = n1 * n2 * (n + 1) / 12\n",
    "    \n",
    "    pval = np.array(range(X.shape[1]), float) # Create empty pval array\n",
    "    \n",
    "    #calculate p-values for each gene\n",
    "    for i in range(len(W)):\n",
    "        if W[i] <= m:\n",
    "            pval[i] = 2.*ss.norm.cdf(W[i],m,s)\n",
    "        else:\n",
    "            pval[i] = 2.*(1-ss.norm.cdf(W[i],m,s))\n",
    "    \n",
    "    #sort p-values\n",
    "    sort = np.argsort(pval)\n",
    "    \n",
    "    return sort\n",
    "\n",
    "sort = WRST(X, y)\n",
    "\n",
    "dfw = df[df.columns[sort]]\n",
    "dfTw = dfT[dfT.columns[sort]]\n",
    "Xw = np.array(dfw)\n",
    "XTw = np.array(dfTw)"
   ]
  },
  {
   "cell_type": "code",
   "execution_count": 3,
   "metadata": {
    "collapsed": false,
    "scrolled": true
   },
   "outputs": [
    {
     "name": "stdout",
     "output_type": "stream",
     "text": [
      "CPU times: user 42.6 s, sys: 2.31 s, total: 44.9 s\n",
      "Wall time: 1h 8min 30s\n"
     ]
    },
    {
     "data": {
      "text/plain": [
       "XGBClassifier(base_score=0.5, colsample_bylevel=1, colsample_bytree=0.8,\n",
       "       gamma=0, learning_rate=0.01, max_delta_step=0, max_depth=5,\n",
       "       min_child_weight=5, missing=None, n_estimators=7500, nthread=-1,\n",
       "       objective='binary:logistic', reg_alpha=0, reg_lambda=1,\n",
       "       scale_pos_weight=1.5, seed=0, silent=True, subsample=0.8)"
      ]
     },
     "execution_count": 3,
     "metadata": {},
     "output_type": "execute_result"
    }
   ],
   "source": [
    "cv_params = {'max_depth': [3,5,7], 'min_child_weight': [3,5,7], 'learning_rate': [0.01,0.05,0.1]}\n",
    "ind_params = {'n_estimators': 7500, 'seed':0, 'subsample': 0.8, 'colsample_bytree': 0.8, \n",
    "              'objective': 'binary:logistic', 'scale_pos_weight':1.5}\n",
    "\n",
    "optimizing_GBM = GridSearchCV(xgb.XGBClassifier(**ind_params), cv_params, cv = 5, n_jobs = -1)\n",
    "% time optimizing_GBM.fit(Xw[:,:1000], y)\n",
    "ind_params.update(optimizing_GBM.best_params_)\n",
    "optimized_GBM = xgb.XGBClassifier(**ind_params)\n",
    "optimized_GBM.fit(Xw[:,:1000], y)"
   ]
  },
  {
   "cell_type": "code",
   "execution_count": 4,
   "metadata": {
    "collapsed": false,
    "scrolled": true
   },
   "outputs": [
    {
     "name": "stdout",
     "output_type": "stream",
     "text": [
      "('Null Accuracy   :', 0.6462264150943396)\n",
      "('XGBoost Accuracy:', 0.68396226415094341)\n",
      "\n",
      "             precision    recall  f1-score   support\n",
      "\n",
      "          1       0.62      0.28      0.39        75\n",
      "          0       0.70      0.91      0.79       137\n",
      "\n",
      "avg / total       0.67      0.68      0.65       212\n",
      "\n",
      "\n"
     ]
    },
    {
     "data": {
      "text/html": [
       "<div>\n",
       "<table border=\"1\" class=\"dataframe\">\n",
       "  <thead>\n",
       "    <tr style=\"text-align: right;\">\n",
       "      <th></th>\n",
       "      <th>predicted_Relapse</th>\n",
       "      <th>predicted_NoRelapse</th>\n",
       "    </tr>\n",
       "  </thead>\n",
       "  <tbody>\n",
       "    <tr>\n",
       "      <th>Relapse</th>\n",
       "      <td>21</td>\n",
       "      <td>54</td>\n",
       "    </tr>\n",
       "    <tr>\n",
       "      <th>NoRelapse</th>\n",
       "      <td>13</td>\n",
       "      <td>124</td>\n",
       "    </tr>\n",
       "  </tbody>\n",
       "</table>\n",
       "</div>"
      ],
      "text/plain": [
       "           predicted_Relapse  predicted_NoRelapse\n",
       "Relapse                   21                   54\n",
       "NoRelapse                 13                  124"
      ]
     },
     "execution_count": 4,
     "metadata": {},
     "output_type": "execute_result"
    }
   ],
   "source": [
    "test_pp = optimized_GBM.predict_proba(XTw[:,:1000])\n",
    "print('Null Accuracy   :', 137./212)\n",
    "print('XGBoost Accuracy:',optimized_GBM.score(XTw[:,:1000], yT))\n",
    "print('')\n",
    "print(classification_report(yT, optimized_GBM.predict(XTw[:,:1000]), labels=[1,0]))\n",
    "print('')\n",
    "conmat = np.array(confusion_matrix(yT, optimized_GBM.predict(XTw[:,:1000]), labels=[1,0]))\n",
    "\n",
    "confusion = pd.DataFrame(conmat, index=['Relapse', 'NoRelapse'],\n",
    "                         columns=['predicted_Relapse','predicted_NoRelapse'])\n",
    "confusion"
   ]
  },
  {
   "cell_type": "code",
   "execution_count": 5,
   "metadata": {
    "collapsed": false,
    "scrolled": false
   },
   "outputs": [
    {
     "data": {
      "image/png": "[encoded data removed]",
      "text/plain": [
       "<matplotlib.figure.Figure at 0x1150ade90>"
      ]
     },
     "metadata": {},
     "output_type": "display_data"
    },
    {
     "name": "stdout",
     "output_type": "stream",
     "text": [
      "0.677664233577\n",
      "\n",
      "222332_at\n"
     ]
    }
   ],
   "source": [
    "fpr, tpr, thresholds = roc_curve(yT, test_pp[:,1])\n",
    "roc_auc = auc(fpr, tpr)\n",
    "%matplotlib inline\n",
    "plt.plot(fpr, tpr, label='AUC = %0.3f' % roc_auc)\n",
    "plt.plot([0, 1], [0, 1], 'k--')  # random predictions curve\n",
    "plt.xlim([0, 1])\n",
    "plt.ylim([0, 1])\n",
    "plt.xlabel('False Positive Rate or (1 - Specificity)')\n",
    "plt.ylabel('True Positive Rate or (Sensitivity)')\n",
    "plt.title('Receiver Operating Characteristic for Training Data')\n",
    "plt.legend(loc=\"lower right\")\n",
    "plt.show()\n",
    "print(roc_auc)\n",
    "print('')\n",
    "print(dfw.columns[np.argmax(optimized_GBM.feature_importances_)])"
   ]
  },
  {
   "cell_type": "code",
   "execution_count": 6,
   "metadata": {
    "collapsed": true
   },
   "outputs": [],
   "source": [
    "sort_ix = sorted(range(len(optimized_GBM.feature_importances_)), key=lambda i: optimized_GBM.feature_importances_[i], reverse=True)"
   ]
  },
  {
   "cell_type": "code",
   "execution_count": 7,
   "metadata": {
    "collapsed": false
   },
   "outputs": [
    {
     "name": "stdout",
     "output_type": "stream",
     "text": [
      "222332_at\n",
      "215141_at;NOP14-AS1\n",
      "212929_s_at\n",
      "207056_s_at;SLC4A8\n",
      "208338_at;P2RX3\n"
     ]
    }
   ],
   "source": [
    "for i in range(5):\n",
    "    print(dfw.columns[sort_ix[i]])"
   ]
  },
  {
   "cell_type": "code",
   "execution_count": 8,
   "metadata": {
    "collapsed": false
   },
   "outputs": [
    {
     "name": "stdout",
     "output_type": "stream",
     "text": [
      "Sensitivity/Recall/TPR (Correct Relapse Predictions / Total Relapse): 0.28\n",
      "\n",
      "Specificity/TNR (Correct NoRelapse Predictions / Total NoRelapse): 0.905109489051\n",
      "\n",
      "Precision (Correct Relapse Predictions / Total Relapse Predictions): 0.617647058824\n",
      "\n",
      "FPR (Incorrect Relapse Predictions / Total NoRelapse): 0.0948905109489\n"
     ]
    }
   ],
   "source": [
    "print 'Sensitivity/Recall/TPR (Correct Relapse Predictions / Total Relapse):', float(conmat[0][0]) / conmat.sum(axis=1)[0]\n",
    "print ''\n",
    "print 'Specificity/TNR (Correct NoRelapse Predictions / Total NoRelapse):', float(conmat[1][1]) / conmat.sum(axis=1)[1]\n",
    "print ''\n",
    "print 'Precision (Correct Relapse Predictions / Total Relapse Predictions):', float(conmat[0][0]) / conmat.sum(axis=0)[0]\n",
    "print ''\n",
    "print 'FPR (Incorrect Relapse Predictions / Total NoRelapse):', float(conmat[1][0]) / conmat.sum(axis=1)[1]"
   ]
  }
 ],
 "metadata": {
  "kernelspec": {
   "display_name": "Python 2",
   "language": "python",
   "name": "python2"
  },
  "language_info": {
   "codemirror_mode": {
    "name": "ipython",
    "version": 2
   },
   "file_extension": ".py",
   "mimetype": "text/x-python",
   "name": "python",
   "nbconvert_exporter": "python",
   "pygments_lexer": "ipython2",
   "version": "2.7.12"
  }
 },
 "nbformat": 4,
 "nbformat_minor": 0
}
